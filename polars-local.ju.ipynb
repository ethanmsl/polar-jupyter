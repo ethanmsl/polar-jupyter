{
 "cells": [
  {
   "cell_type": "markdown",
   "id": "b12e7eeb",
   "metadata": {},
   "source": [
    " # Quick Polars Local Test."
   ]
  },
  {
   "cell_type": "code",
   "execution_count": 2,
   "id": "8aa73999",
   "metadata": {
    "lines_to_next_cell": 2
   },
   "outputs": [],
   "source": [
    "import polars as pl"
   ]
  },
  {
   "cell_type": "markdown",
   "id": "baea21d0",
   "metadata": {},
   "source": [
    "# Read Data (eager/at-mention)"
   ]
  },
  {
   "cell_type": "code",
   "execution_count": 4,
   "id": "f06301d0",
   "metadata": {},
   "outputs": [
    {
     "data": {
      "text/html": [
       "<div><style>\n",
       ".dataframe > thead > tr > th,\n",
       ".dataframe > tbody > tr > td {\n",
       "  text-align: right;\n",
       "  white-space: pre-wrap;\n",
       "}\n",
       "</style>\n",
       "<small>shape: (150, 5)</small><table border=\"1\" class=\"dataframe\"><thead><tr><th>sepal.length</th><th>sepal.width</th><th>petal.length</th><th>petal.width</th><th>variety</th></tr><tr><td>f64</td><td>f64</td><td>f64</td><td>f64</td><td>str</td></tr></thead><tbody><tr><td>5.1</td><td>3.5</td><td>1.4</td><td>0.2</td><td>&quot;Setosa&quot;</td></tr><tr><td>4.9</td><td>3.0</td><td>1.4</td><td>0.2</td><td>&quot;Setosa&quot;</td></tr><tr><td>4.7</td><td>3.2</td><td>1.3</td><td>0.2</td><td>&quot;Setosa&quot;</td></tr><tr><td>4.6</td><td>3.1</td><td>1.5</td><td>0.2</td><td>&quot;Setosa&quot;</td></tr><tr><td>5.0</td><td>3.6</td><td>1.4</td><td>0.2</td><td>&quot;Setosa&quot;</td></tr><tr><td>5.4</td><td>3.9</td><td>1.7</td><td>0.4</td><td>&quot;Setosa&quot;</td></tr><tr><td>4.6</td><td>3.4</td><td>1.4</td><td>0.3</td><td>&quot;Setosa&quot;</td></tr><tr><td>5.0</td><td>3.4</td><td>1.5</td><td>0.2</td><td>&quot;Setosa&quot;</td></tr><tr><td>4.4</td><td>2.9</td><td>1.4</td><td>0.2</td><td>&quot;Setosa&quot;</td></tr><tr><td>4.9</td><td>3.1</td><td>1.5</td><td>0.1</td><td>&quot;Setosa&quot;</td></tr><tr><td>5.4</td><td>3.7</td><td>1.5</td><td>0.2</td><td>&quot;Setosa&quot;</td></tr><tr><td>4.8</td><td>3.4</td><td>1.6</td><td>0.2</td><td>&quot;Setosa&quot;</td></tr><tr><td>&hellip;</td><td>&hellip;</td><td>&hellip;</td><td>&hellip;</td><td>&hellip;</td></tr><tr><td>6.0</td><td>3.0</td><td>4.8</td><td>1.8</td><td>&quot;Virginica&quot;</td></tr><tr><td>6.9</td><td>3.1</td><td>5.4</td><td>2.1</td><td>&quot;Virginica&quot;</td></tr><tr><td>6.7</td><td>3.1</td><td>5.6</td><td>2.4</td><td>&quot;Virginica&quot;</td></tr><tr><td>6.9</td><td>3.1</td><td>5.1</td><td>2.3</td><td>&quot;Virginica&quot;</td></tr><tr><td>5.8</td><td>2.7</td><td>5.1</td><td>1.9</td><td>&quot;Virginica&quot;</td></tr><tr><td>6.8</td><td>3.2</td><td>5.9</td><td>2.3</td><td>&quot;Virginica&quot;</td></tr><tr><td>6.7</td><td>3.3</td><td>5.7</td><td>2.5</td><td>&quot;Virginica&quot;</td></tr><tr><td>6.7</td><td>3.0</td><td>5.2</td><td>2.3</td><td>&quot;Virginica&quot;</td></tr><tr><td>6.3</td><td>2.5</td><td>5.0</td><td>1.9</td><td>&quot;Virginica&quot;</td></tr><tr><td>6.5</td><td>3.0</td><td>5.2</td><td>2.0</td><td>&quot;Virginica&quot;</td></tr><tr><td>6.2</td><td>3.4</td><td>5.4</td><td>2.3</td><td>&quot;Virginica&quot;</td></tr><tr><td>5.9</td><td>3.0</td><td>5.1</td><td>1.8</td><td>&quot;Virginica&quot;</td></tr></tbody></table></div>"
      ],
      "text/plain": [
       "shape: (150, 5)\n",
       "┌──────────────┬─────────────┬──────────────┬─────────────┬───────────┐\n",
       "│ sepal.length ┆ sepal.width ┆ petal.length ┆ petal.width ┆ variety   │\n",
       "│ ---          ┆ ---         ┆ ---          ┆ ---         ┆ ---       │\n",
       "│ f64          ┆ f64         ┆ f64          ┆ f64         ┆ str       │\n",
       "╞══════════════╪═════════════╪══════════════╪═════════════╪═══════════╡\n",
       "│ 5.1          ┆ 3.5         ┆ 1.4          ┆ 0.2         ┆ Setosa    │\n",
       "│ 4.9          ┆ 3.0         ┆ 1.4          ┆ 0.2         ┆ Setosa    │\n",
       "│ 4.7          ┆ 3.2         ┆ 1.3          ┆ 0.2         ┆ Setosa    │\n",
       "│ 4.6          ┆ 3.1         ┆ 1.5          ┆ 0.2         ┆ Setosa    │\n",
       "│ …            ┆ …           ┆ …            ┆ …           ┆ …         │\n",
       "│ 6.3          ┆ 2.5         ┆ 5.0          ┆ 1.9         ┆ Virginica │\n",
       "│ 6.5          ┆ 3.0         ┆ 5.2          ┆ 2.0         ┆ Virginica │\n",
       "│ 6.2          ┆ 3.4         ┆ 5.4          ┆ 2.3         ┆ Virginica │\n",
       "│ 5.9          ┆ 3.0         ┆ 5.1          ┆ 1.8         ┆ Virginica │\n",
       "└──────────────┴─────────────┴──────────────┴─────────────┴───────────┘"
      ]
     },
     "execution_count": 4,
     "metadata": {},
     "output_type": "execute_result"
    }
   ],
   "source": [
    "iris_data = pl.read_csv(\"data/iris.csv\")"
   ]
  },
  {
   "cell_type": "markdown",
   "id": "10843f64",
   "metadata": {},
   "source": [
    "# Print vs Engine-Render"
   ]
  },
  {
   "cell_type": "markdown",
   "id": "e70a746a",
   "metadata": {},
   "source": [
    "### Print (terminal-style)"
   ]
  },
  {
   "cell_type": "code",
   "execution_count": 5,
   "id": "db49043d",
   "metadata": {},
   "outputs": [
    {
     "name": "stdout",
     "output_type": "stream",
     "text": [
      "shape: (150, 5)\n",
      "┌──────────────┬─────────────┬──────────────┬─────────────┬───────────┐\n",
      "│ sepal.length ┆ sepal.width ┆ petal.length ┆ petal.width ┆ variety   │\n",
      "│ ---          ┆ ---         ┆ ---          ┆ ---         ┆ ---       │\n",
      "│ f64          ┆ f64         ┆ f64          ┆ f64         ┆ str       │\n",
      "╞══════════════╪═════════════╪══════════════╪═════════════╪═══════════╡\n",
      "│ 5.1          ┆ 3.5         ┆ 1.4          ┆ 0.2         ┆ Setosa    │\n",
      "│ 4.9          ┆ 3.0         ┆ 1.4          ┆ 0.2         ┆ Setosa    │\n",
      "│ 4.7          ┆ 3.2         ┆ 1.3          ┆ 0.2         ┆ Setosa    │\n",
      "│ 4.6          ┆ 3.1         ┆ 1.5          ┆ 0.2         ┆ Setosa    │\n",
      "│ …            ┆ …           ┆ …            ┆ …           ┆ …         │\n",
      "│ 6.3          ┆ 2.5         ┆ 5.0          ┆ 1.9         ┆ Virginica │\n",
      "│ 6.5          ┆ 3.0         ┆ 5.2          ┆ 2.0         ┆ Virginica │\n",
      "│ 6.2          ┆ 3.4         ┆ 5.4          ┆ 2.3         ┆ Virginica │\n",
      "│ 5.9          ┆ 3.0         ┆ 5.1          ┆ 1.8         ┆ Virginica │\n",
      "└──────────────┴─────────────┴──────────────┴─────────────┴───────────┘\n"
     ]
    }
   ],
   "source": [
    "print(iris_data)"
   ]
  },
  {
   "cell_type": "markdown",
   "id": "4cf28684",
   "metadata": {},
   "source": [
    "## Render (engine style; e.g. Jupyter or VSCode)"
   ]
  },
  {
   "cell_type": "code",
   "execution_count": 7,
   "id": "5b6f1271",
   "metadata": {},
   "outputs": [
    {
     "data": {
      "text/html": [
       "<div><style>\n",
       ".dataframe > thead > tr > th,\n",
       ".dataframe > tbody > tr > td {\n",
       "  text-align: right;\n",
       "  white-space: pre-wrap;\n",
       "}\n",
       "</style>\n",
       "<small>shape: (150, 5)</small><table border=\"1\" class=\"dataframe\"><thead><tr><th>sepal.length</th><th>sepal.width</th><th>petal.length</th><th>petal.width</th><th>variety</th></tr><tr><td>f64</td><td>f64</td><td>f64</td><td>f64</td><td>str</td></tr></thead><tbody><tr><td>5.1</td><td>3.5</td><td>1.4</td><td>0.2</td><td>&quot;Setosa&quot;</td></tr><tr><td>4.9</td><td>3.0</td><td>1.4</td><td>0.2</td><td>&quot;Setosa&quot;</td></tr><tr><td>4.7</td><td>3.2</td><td>1.3</td><td>0.2</td><td>&quot;Setosa&quot;</td></tr><tr><td>4.6</td><td>3.1</td><td>1.5</td><td>0.2</td><td>&quot;Setosa&quot;</td></tr><tr><td>5.0</td><td>3.6</td><td>1.4</td><td>0.2</td><td>&quot;Setosa&quot;</td></tr><tr><td>5.4</td><td>3.9</td><td>1.7</td><td>0.4</td><td>&quot;Setosa&quot;</td></tr><tr><td>4.6</td><td>3.4</td><td>1.4</td><td>0.3</td><td>&quot;Setosa&quot;</td></tr><tr><td>5.0</td><td>3.4</td><td>1.5</td><td>0.2</td><td>&quot;Setosa&quot;</td></tr><tr><td>4.4</td><td>2.9</td><td>1.4</td><td>0.2</td><td>&quot;Setosa&quot;</td></tr><tr><td>4.9</td><td>3.1</td><td>1.5</td><td>0.1</td><td>&quot;Setosa&quot;</td></tr><tr><td>5.4</td><td>3.7</td><td>1.5</td><td>0.2</td><td>&quot;Setosa&quot;</td></tr><tr><td>4.8</td><td>3.4</td><td>1.6</td><td>0.2</td><td>&quot;Setosa&quot;</td></tr><tr><td>&hellip;</td><td>&hellip;</td><td>&hellip;</td><td>&hellip;</td><td>&hellip;</td></tr><tr><td>6.0</td><td>3.0</td><td>4.8</td><td>1.8</td><td>&quot;Virginica&quot;</td></tr><tr><td>6.9</td><td>3.1</td><td>5.4</td><td>2.1</td><td>&quot;Virginica&quot;</td></tr><tr><td>6.7</td><td>3.1</td><td>5.6</td><td>2.4</td><td>&quot;Virginica&quot;</td></tr><tr><td>6.9</td><td>3.1</td><td>5.1</td><td>2.3</td><td>&quot;Virginica&quot;</td></tr><tr><td>5.8</td><td>2.7</td><td>5.1</td><td>1.9</td><td>&quot;Virginica&quot;</td></tr><tr><td>6.8</td><td>3.2</td><td>5.9</td><td>2.3</td><td>&quot;Virginica&quot;</td></tr><tr><td>6.7</td><td>3.3</td><td>5.7</td><td>2.5</td><td>&quot;Virginica&quot;</td></tr><tr><td>6.7</td><td>3.0</td><td>5.2</td><td>2.3</td><td>&quot;Virginica&quot;</td></tr><tr><td>6.3</td><td>2.5</td><td>5.0</td><td>1.9</td><td>&quot;Virginica&quot;</td></tr><tr><td>6.5</td><td>3.0</td><td>5.2</td><td>2.0</td><td>&quot;Virginica&quot;</td></tr><tr><td>6.2</td><td>3.4</td><td>5.4</td><td>2.3</td><td>&quot;Virginica&quot;</td></tr><tr><td>5.9</td><td>3.0</td><td>5.1</td><td>1.8</td><td>&quot;Virginica&quot;</td></tr></tbody></table></div>"
      ],
      "text/plain": [
       "shape: (150, 5)\n",
       "┌──────────────┬─────────────┬──────────────┬─────────────┬───────────┐\n",
       "│ sepal.length ┆ sepal.width ┆ petal.length ┆ petal.width ┆ variety   │\n",
       "│ ---          ┆ ---         ┆ ---          ┆ ---         ┆ ---       │\n",
       "│ f64          ┆ f64         ┆ f64          ┆ f64         ┆ str       │\n",
       "╞══════════════╪═════════════╪══════════════╪═════════════╪═══════════╡\n",
       "│ 5.1          ┆ 3.5         ┆ 1.4          ┆ 0.2         ┆ Setosa    │\n",
       "│ 4.9          ┆ 3.0         ┆ 1.4          ┆ 0.2         ┆ Setosa    │\n",
       "│ 4.7          ┆ 3.2         ┆ 1.3          ┆ 0.2         ┆ Setosa    │\n",
       "│ 4.6          ┆ 3.1         ┆ 1.5          ┆ 0.2         ┆ Setosa    │\n",
       "│ …            ┆ …           ┆ …            ┆ …           ┆ …         │\n",
       "│ 6.3          ┆ 2.5         ┆ 5.0          ┆ 1.9         ┆ Virginica │\n",
       "│ 6.5          ┆ 3.0         ┆ 5.2          ┆ 2.0         ┆ Virginica │\n",
       "│ 6.2          ┆ 3.4         ┆ 5.4          ┆ 2.3         ┆ Virginica │\n",
       "│ 5.9          ┆ 3.0         ┆ 5.1          ┆ 1.8         ┆ Virginica │\n",
       "└──────────────┴─────────────┴──────────────┴─────────────┴───────────┘"
      ]
     },
     "execution_count": 7,
     "metadata": {},
     "output_type": "execute_result"
    }
   ],
   "source": [
    "iris_data"
   ]
  },
  {
   "cell_type": "markdown",
   "id": "869e1d26",
   "metadata": {},
   "source": [
    "# Various"
   ]
  },
  {
   "cell_type": "code",
   "execution_count": 6,
   "id": "fc359528",
   "metadata": {},
   "outputs": [
    {
     "data": {
      "text/plain": [
       "polars.dataframe.frame.DataFrame"
      ]
     },
     "execution_count": 6,
     "metadata": {},
     "output_type": "execute_result"
    }
   ],
   "source": [
    "type(iris_data)"
   ]
  },
  {
   "cell_type": "markdown",
   "id": "51f5fc56",
   "metadata": {},
   "source": [
    "# GroupBy"
   ]
  },
  {
   "cell_type": "code",
   "execution_count": 22,
   "id": "55e5431d",
   "metadata": {},
   "outputs": [
    {
     "name": "stdout",
     "output_type": "stream",
     "text": [
      "shape: (9, 5)\n",
      "┌───────┬───────────┬───────┬──────┬─────────┐\n",
      "│ Zone  ┆ School    ┆ Name  ┆ Math ┆ Science │\n",
      "│ ---   ┆ ---       ┆ ---   ┆ ---  ┆ ---     │\n",
      "│ str   ┆ str       ┆ str   ┆ i64  ┆ i64     │\n",
      "╞═══════╪═══════════╪═══════╪══════╪═════════╡\n",
      "│ North ┆ Rushmore  ┆ Jonny ┆ 78   ┆ 80      │\n",
      "│ North ┆ Rushmore  ┆ Mary  ┆ 39   ┆ 45      │\n",
      "│ North ┆ Rushmore  ┆ Jim   ┆ 798  ┆ 80      │\n",
      "│ South ┆ Bayside   ┆ Joe   ┆ 76   ┆ 68      │\n",
      "│ South ┆ Rydell    ┆ Jakob ┆ 56   ┆ 90      │\n",
      "│ East  ┆ Shermer   ┆ Jimmy ┆ 67   ┆ 45      │\n",
      "│ East  ┆ Shermer   ┆ Erik  ┆ 89   ┆ 66      │\n",
      "│ West  ┆ Ridgemont ┆ Lam   ┆ 100  ┆ 89      │\n",
      "│ West  ┆ Hogwarts  ┆ Yip   ┆ 55   ┆ 32      │\n",
      "└───────┴───────────┴───────┴──────┴─────────┘\n"
     ]
    }
   ],
   "source": [
    "scores = {\n",
    "    \"Zone\": [\"North\", \"North\", \"North\", \"South\", \"South\", \"East\", \"East\", \"West\", \"West\"],\n",
    "    \"School\": [\n",
    "        \"Rushmore\",\n",
    "        \"Rushmore\",\n",
    "        \"Rushmore\",\n",
    "        \"Bayside\",\n",
    "        \"Rydell\",\n",
    "        \"Shermer\",\n",
    "        \"Shermer\",\n",
    "        \"Ridgemont\",\n",
    "        \"Hogwarts\",\n",
    "    ],\n",
    "    \"Name\": [\"Jonny\", \"Mary\", \"Jim\", \"Joe\", \"Jakob\", \"Jimmy\", \"Erik\", \"Lam\", \"Yip\"],\n",
    "    \"Math\": [78, 39, 798, 76, 56, 67, 89, 100, 55],\n",
    "    \"Science\": [80, 45, 80, 68, 90, 45, 66, 89, 32],\n",
    "}\n",
    "\n",
    "\n",
    "school_df = pl.DataFrame(scores)\n",
    "print(school_df)"
   ]
  },
  {
   "cell_type": "code",
   "execution_count": 23,
   "id": "6f15d13e",
   "metadata": {},
   "outputs": [
    {
     "name": "stderr",
     "output_type": "stream",
     "text": [
      "/var/folders/77/skc_0fn91yld6jpgpm315xy40000gq/T/ipykernel_58063/1500813854.py:1: DeprecationWarning: `groupby` is deprecated. It has been renamed to `group_by`.\n",
      "  q = school_df.lazy().groupby(by=\"Zone\").agg(\"School\", \"Name\", \"Math\", \"Science\")\n"
     ]
    },
    {
     "data": {
      "text/html": [
       "<div><style>\n",
       ".dataframe > thead > tr > th,\n",
       ".dataframe > tbody > tr > td {\n",
       "  text-align: right;\n",
       "  white-space: pre-wrap;\n",
       "}\n",
       "</style>\n",
       "<small>shape: (4, 5)</small><table border=\"1\" class=\"dataframe\"><thead><tr><th>Zone</th><th>School</th><th>Name</th><th>Math</th><th>Science</th></tr><tr><td>str</td><td>list[str]</td><td>list[str]</td><td>list[i64]</td><td>list[i64]</td></tr></thead><tbody><tr><td>&quot;North&quot;</td><td>[&quot;Rushmore&quot;, &quot;Rushmore&quot;, &quot;Rushmore&quot;]</td><td>[&quot;Jonny&quot;, &quot;Mary&quot;, &quot;Jim&quot;]</td><td>[78, 39, 798]</td><td>[80, 45, 80]</td></tr><tr><td>&quot;East&quot;</td><td>[&quot;Shermer&quot;, &quot;Shermer&quot;]</td><td>[&quot;Jimmy&quot;, &quot;Erik&quot;]</td><td>[67, 89]</td><td>[45, 66]</td></tr><tr><td>&quot;West&quot;</td><td>[&quot;Ridgemont&quot;, &quot;Hogwarts&quot;]</td><td>[&quot;Lam&quot;, &quot;Yip&quot;]</td><td>[100, 55]</td><td>[89, 32]</td></tr><tr><td>&quot;South&quot;</td><td>[&quot;Bayside&quot;, &quot;Rydell&quot;]</td><td>[&quot;Joe&quot;, &quot;Jakob&quot;]</td><td>[76, 56]</td><td>[68, 90]</td></tr></tbody></table></div>"
      ],
      "text/plain": [
       "shape: (4, 5)\n",
       "┌───────┬───────────────────────────┬──────────────────────────┬───────────────┬──────────────┐\n",
       "│ Zone  ┆ School                    ┆ Name                     ┆ Math          ┆ Science      │\n",
       "│ ---   ┆ ---                       ┆ ---                      ┆ ---           ┆ ---          │\n",
       "│ str   ┆ list[str]                 ┆ list[str]                ┆ list[i64]     ┆ list[i64]    │\n",
       "╞═══════╪═══════════════════════════╪══════════════════════════╪═══════════════╪══════════════╡\n",
       "│ North ┆ [\"Rushmore\", \"Rushmore\",  ┆ [\"Jonny\", \"Mary\", \"Jim\"] ┆ [78, 39, 798] ┆ [80, 45, 80] │\n",
       "│       ┆ \"Rushmo…                  ┆                          ┆               ┆              │\n",
       "│ East  ┆ [\"Shermer\", \"Shermer\"]    ┆ [\"Jimmy\", \"Erik\"]        ┆ [67, 89]      ┆ [45, 66]     │\n",
       "│ West  ┆ [\"Ridgemont\", \"Hogwarts\"] ┆ [\"Lam\", \"Yip\"]           ┆ [100, 55]     ┆ [89, 32]     │\n",
       "│ South ┆ [\"Bayside\", \"Rydell\"]     ┆ [\"Joe\", \"Jakob\"]         ┆ [76, 56]      ┆ [68, 90]     │\n",
       "└───────┴───────────────────────────┴──────────────────────────┴───────────────┴──────────────┘"
      ]
     },
     "execution_count": 23,
     "metadata": {},
     "output_type": "execute_result"
    }
   ],
   "source": [
    "q = school_df.lazy().groupby(by=\"Zone\").agg(\"School\", \"Name\", \"Math\", \"Science\")\n",
    "q.collect()"
   ]
  },
  {
   "cell_type": "code",
   "execution_count": 24,
   "id": "5d08586c",
   "metadata": {},
   "outputs": [
    {
     "name": "stderr",
     "output_type": "stream",
     "text": [
      "/var/folders/77/skc_0fn91yld6jpgpm315xy40000gq/T/ipykernel_58063/306110134.py:1: DeprecationWarning: `groupby` is deprecated. It has been renamed to `group_by`.\n",
      "  q = school_df.lazy().groupby(by=\"Zone\").agg(\"School\", \"Name\", \"Math\", \"Science\").filter(pl.col('Zone')=='East')\n"
     ]
    },
    {
     "data": {
      "text/html": [
       "<div><style>\n",
       ".dataframe > thead > tr > th,\n",
       ".dataframe > tbody > tr > td {\n",
       "  text-align: right;\n",
       "  white-space: pre-wrap;\n",
       "}\n",
       "</style>\n",
       "<small>shape: (1, 5)</small><table border=\"1\" class=\"dataframe\"><thead><tr><th>Zone</th><th>School</th><th>Name</th><th>Math</th><th>Science</th></tr><tr><td>str</td><td>list[str]</td><td>list[str]</td><td>list[i64]</td><td>list[i64]</td></tr></thead><tbody><tr><td>&quot;East&quot;</td><td>[&quot;Shermer&quot;, &quot;Shermer&quot;]</td><td>[&quot;Jimmy&quot;, &quot;Erik&quot;]</td><td>[67, 89]</td><td>[45, 66]</td></tr></tbody></table></div>"
      ],
      "text/plain": [
       "shape: (1, 5)\n",
       "┌──────┬────────────────────────┬───────────────────┬───────────┬───────────┐\n",
       "│ Zone ┆ School                 ┆ Name              ┆ Math      ┆ Science   │\n",
       "│ ---  ┆ ---                    ┆ ---               ┆ ---       ┆ ---       │\n",
       "│ str  ┆ list[str]              ┆ list[str]         ┆ list[i64] ┆ list[i64] │\n",
       "╞══════╪════════════════════════╪═══════════════════╪═══════════╪═══════════╡\n",
       "│ East ┆ [\"Shermer\", \"Shermer\"] ┆ [\"Jimmy\", \"Erik\"] ┆ [67, 89]  ┆ [45, 66]  │\n",
       "└──────┴────────────────────────┴───────────────────┴───────────┴───────────┘"
      ]
     },
     "execution_count": 24,
     "metadata": {},
     "output_type": "execute_result"
    }
   ],
   "source": [
    "q = (\n",
    "    school_df.lazy()\n",
    "    .groupby(by=\"Zone\")\n",
    "    .agg(\"School\", \"Name\", \"Math\", \"Science\")\n",
    "    .filter(pl.col(\"Zone\") == \"East\")\n",
    ")\n",
    "q.collect()"
   ]
  },
  {
   "cell_type": "code",
   "execution_count": 25,
   "id": "8a771542",
   "metadata": {},
   "outputs": [
    {
     "name": "stderr",
     "output_type": "stream",
     "text": [
      "/var/folders/77/skc_0fn91yld6jpgpm315xy40000gq/T/ipykernel_58063/2285314241.py:3: DeprecationWarning: `groupby` is deprecated. It has been renamed to `group_by`.\n",
      "  .groupby(by=\"Zone\")\n"
     ]
    },
    {
     "data": {
      "text/html": [
       "<div><style>\n",
       ".dataframe > thead > tr > th,\n",
       ".dataframe > tbody > tr > td {\n",
       "  text-align: right;\n",
       "  white-space: pre-wrap;\n",
       "}\n",
       "</style>\n",
       "<small>shape: (4, 2)</small><table border=\"1\" class=\"dataframe\"><thead><tr><th>Zone</th><th>Science_std</th></tr><tr><td>str</td><td>f64</td></tr></thead><tbody><tr><td>&quot;North&quot;</td><td>20.207259</td></tr><tr><td>&quot;South&quot;</td><td>15.556349</td></tr><tr><td>&quot;East&quot;</td><td>14.849242</td></tr><tr><td>&quot;West&quot;</td><td>40.305087</td></tr></tbody></table></div>"
      ],
      "text/plain": [
       "shape: (4, 2)\n",
       "┌───────┬─────────────┐\n",
       "│ Zone  ┆ Science_std │\n",
       "│ ---   ┆ ---         │\n",
       "│ str   ┆ f64         │\n",
       "╞═══════╪═════════════╡\n",
       "│ North ┆ 20.207259   │\n",
       "│ South ┆ 15.556349   │\n",
       "│ East  ┆ 14.849242   │\n",
       "│ West  ┆ 40.305087   │\n",
       "└───────┴─────────────┘"
      ]
     },
     "execution_count": 25,
     "metadata": {},
     "output_type": "execute_result"
    }
   ],
   "source": [
    "q = (\n",
    "    school_df.lazy()\n",
    "    .groupby(by=\"Zone\")\n",
    "    .agg(\n",
    "        pl.col('Science').std().alias('Science_std'),\n",
    "    )\n",
    ")\n",
    "q.collect()\n"
   ]
  },
  {
   "cell_type": "markdown",
   "id": "4b5e62aa",
   "metadata": {},
   "source": [
    "### Note: order returned by groupby is effectively random (presumably due to soft-threading)"
   ]
  },
  {
   "cell_type": "code",
   "execution_count": 31,
   "id": "4417f42e",
   "metadata": {},
   "outputs": [
    {
     "name": "stdout",
     "output_type": "stream",
     "text": [
      "shape: (4, 8)\n",
      "┌───────┬─────────────┬─────────────┬────────────┬────────────┬───────────┬───────────┬────────────┐\n",
      "│ Zone  ┆ Number of   ┆ Science(Max ┆ Science(Mi ┆ Science(Me ┆ Math(Max) ┆ Math(Min) ┆ Math(Mean) │\n",
      "│ ---   ┆ Schools     ┆ )           ┆ n)         ┆ an)        ┆ ---       ┆ ---       ┆ ---        │\n",
      "│ str   ┆ ---         ┆ ---         ┆ ---        ┆ ---        ┆ i64       ┆ i64       ┆ f64        │\n",
      "│       ┆ u32         ┆ i64         ┆ i64        ┆ f64        ┆           ┆           ┆            │\n",
      "╞═══════╪═════════════╪═════════════╪════════════╪════════════╪═══════════╪═══════════╪════════════╡\n",
      "│ South ┆ 2           ┆ 90          ┆ 68         ┆ 79.0       ┆ 76        ┆ 56        ┆ 66.0       │\n",
      "│ West  ┆ 2           ┆ 89          ┆ 32         ┆ 60.5       ┆ 100       ┆ 55        ┆ 77.5       │\n",
      "│ East  ┆ 2           ┆ 66          ┆ 45         ┆ 55.5       ┆ 89        ┆ 67        ┆ 78.0       │\n",
      "│ North ┆ 3           ┆ 80          ┆ 45         ┆ 68.333333  ┆ 798       ┆ 39        ┆ 305.0      │\n",
      "└───────┴─────────────┴─────────────┴────────────┴────────────┴───────────┴───────────┴────────────┘\n"
     ]
    },
    {
     "name": "stderr",
     "output_type": "stream",
     "text": [
      "/var/folders/77/skc_0fn91yld6jpgpm315xy40000gq/T/ipykernel_58063/4245287635.py:4: DeprecationWarning: `groupby` is deprecated. It has been renamed to `group_by`.\n",
      "  .groupby(by='Zone')\n"
     ]
    }
   ],
   "source": [
    "q = (\n",
    "    school_df\n",
    "    .lazy()\n",
    "    .groupby(by='Zone')\n",
    "    .agg(        \n",
    "        [\n",
    "            pl.col('Science').count().alias('Number of Schools'),\n",
    "            pl.col('Science').max().alias('Science(Max)'),\n",
    "            pl.col('Science').min().alias('Science(Min)'),\n",
    "            pl.col('Science').mean().alias('Science(Mean)'),\n",
    "            pl.col('Math').max().alias('Math(Max)'),\n",
    "            pl.col('Math').min().alias('Math(Min)'),    \n",
    "            pl.col('Math').mean().alias('Math(Mean)'),    \n",
    "        ]\n",
    "    )    \n",
    ")\n",
    "print(q.collect())"
   ]
  },
  {
   "cell_type": "markdown",
   "id": "9a0ae54e",
   "metadata": {},
   "source": [
    "### .sort() can be used to deal with the variable ordering"
   ]
  },
  {
   "cell_type": "code",
   "execution_count": 33,
   "id": "4da1d640",
   "metadata": {},
   "outputs": [
    {
     "name": "stdout",
     "output_type": "stream",
     "text": [
      "shape: (4, 8)\n",
      "┌───────┬─────────────┬─────────────┬────────────┬────────────┬───────────┬───────────┬────────────┐\n",
      "│ Zone  ┆ Number of   ┆ Science(Max ┆ Science(Mi ┆ Science(Me ┆ Math(Max) ┆ Math(Min) ┆ Math(Mean) │\n",
      "│ ---   ┆ Schools     ┆ )           ┆ n)         ┆ an)        ┆ ---       ┆ ---       ┆ ---        │\n",
      "│ str   ┆ ---         ┆ ---         ┆ ---        ┆ ---        ┆ i64       ┆ i64       ┆ f64        │\n",
      "│       ┆ u32         ┆ i64         ┆ i64        ┆ f64        ┆           ┆           ┆            │\n",
      "╞═══════╪═════════════╪═════════════╪════════════╪════════════╪═══════════╪═══════════╪════════════╡\n",
      "│ East  ┆ 2           ┆ 66          ┆ 45         ┆ 55.5       ┆ 89        ┆ 67        ┆ 78.0       │\n",
      "│ North ┆ 3           ┆ 80          ┆ 45         ┆ 68.333333  ┆ 798       ┆ 39        ┆ 305.0      │\n",
      "│ South ┆ 2           ┆ 90          ┆ 68         ┆ 79.0       ┆ 76        ┆ 56        ┆ 66.0       │\n",
      "│ West  ┆ 2           ┆ 89          ┆ 32         ┆ 60.5       ┆ 100       ┆ 55        ┆ 77.5       │\n",
      "└───────┴─────────────┴─────────────┴────────────┴────────────┴───────────┴───────────┴────────────┘\n"
     ]
    },
    {
     "name": "stderr",
     "output_type": "stream",
     "text": [
      "/var/folders/77/skc_0fn91yld6jpgpm315xy40000gq/T/ipykernel_58063/6057844.py:4: DeprecationWarning: `groupby` is deprecated. It has been renamed to `group_by`.\n",
      "  .groupby(by='Zone')\n"
     ]
    }
   ],
   "source": [
    "q = (\n",
    "    school_df\n",
    "    .lazy()\n",
    "    .groupby(by='Zone')\n",
    "    .agg(        \n",
    "        [\n",
    "            pl.col('Science').count().alias('Number of Schools'),\n",
    "            pl.col('Science').max().alias('Science(Max)'),\n",
    "            pl.col('Science').min().alias('Science(Min)'),\n",
    "            pl.col('Science').mean().alias('Science(Mean)'),\n",
    "            pl.col('Math').max().alias('Math(Max)'),\n",
    "            pl.col('Math').min().alias('Math(Min)'),    \n",
    "            pl.col('Math').mean().alias('Math(Mean)'),    \n",
    "        ]\n",
    "    )    \n",
    "    .sort(by='Zone')\n",
    ")\n",
    "print(q.collect())"
   ]
  },
  {
   "cell_type": "markdown",
   "id": "d5ba5f88",
   "metadata": {},
   "source": [
    "### Here's one hack to create custom ordering : joining another dataframe and hiding an invisilbe ordering column"
   ]
  },
  {
   "cell_type": "code",
   "execution_count": 36,
   "id": "0182b056",
   "metadata": {},
   "outputs": [
    {
     "name": "stderr",
     "output_type": "stream",
     "text": [
      "/var/folders/77/skc_0fn91yld6jpgpm315xy40000gq/T/ipykernel_58063/301029563.py:8: DeprecationWarning: `groupby` is deprecated. It has been renamed to `group_by`.\n",
      "  .groupby(by=[\"Zone\", \"Zone_order\"])\n"
     ]
    },
    {
     "data": {
      "text/html": [
       "<div><style>\n",
       ".dataframe > thead > tr > th,\n",
       ".dataframe > tbody > tr > td {\n",
       "  text-align: right;\n",
       "  white-space: pre-wrap;\n",
       "}\n",
       "</style>\n",
       "<small>shape: (4, 3)</small><table border=\"1\" class=\"dataframe\"><thead><tr><th>Zone</th><th>Zone_order</th><th>Science(Max)</th></tr><tr><td>str</td><td>i64</td><td>i64</td></tr></thead><tbody><tr><td>&quot;North&quot;</td><td>0</td><td>80</td></tr><tr><td>&quot;South&quot;</td><td>1</td><td>90</td></tr><tr><td>&quot;East&quot;</td><td>2</td><td>66</td></tr><tr><td>&quot;West&quot;</td><td>3</td><td>89</td></tr></tbody></table></div>"
      ],
      "text/plain": [
       "shape: (4, 3)\n",
       "┌───────┬────────────┬──────────────┐\n",
       "│ Zone  ┆ Zone_order ┆ Science(Max) │\n",
       "│ ---   ┆ ---        ┆ ---          │\n",
       "│ str   ┆ i64        ┆ i64          │\n",
       "╞═══════╪════════════╪══════════════╡\n",
       "│ North ┆ 0          ┆ 80           │\n",
       "│ South ┆ 1          ┆ 90           │\n",
       "│ East  ┆ 2          ┆ 66           │\n",
       "│ West  ┆ 3          ┆ 89           │\n",
       "└───────┴────────────┴──────────────┘"
      ]
     },
     "execution_count": 36,
     "metadata": {},
     "output_type": "execute_result"
    }
   ],
   "source": [
    "df_sortorder = pl.DataFrame(\n",
    "    {\"Zone\": [\"North\", \"South\", \"East\", \"West\"], \"Zone_order\": [0, 1, 2, 3]}\n",
    ").lazy()\n",
    "\n",
    "q = (\n",
    "    school_df.lazy()\n",
    "    .join(df_sortorder, on=\"Zone\", how=\"left\")\n",
    "    .groupby(by=[\"Zone\", \"Zone_order\"])\n",
    "    .agg([pl.max(\"Science\").alias(\"Science(Max)\")])\n",
    "    .sort(\"Zone_order\")\n",
    "   # .select(pl.exclude(\"Zone_order\"))\n",
    ")\n",
    "q.collect()"
   ]
  },
  {
   "cell_type": "markdown",
   "id": "fa5ee7ce",
   "metadata": {},
   "source": [
    "# Insurance CSV"
   ]
  },
  {
   "cell_type": "code",
   "execution_count": 37,
   "id": "37f01420",
   "metadata": {},
   "outputs": [
    {
     "data": {
      "text/html": [
       "<div><style>\n",
       ".dataframe > thead > tr > th,\n",
       ".dataframe > tbody > tr > td {\n",
       "  text-align: right;\n",
       "  white-space: pre-wrap;\n",
       "}\n",
       "</style>\n",
       "<small>shape: (1_338, 7)</small><table border=\"1\" class=\"dataframe\"><thead><tr><th>age</th><th>sex</th><th>bmi</th><th>children</th><th>smoker</th><th>region</th><th>charges</th></tr><tr><td>i64</td><td>str</td><td>f64</td><td>i64</td><td>str</td><td>str</td><td>f64</td></tr></thead><tbody><tr><td>19</td><td>&quot;female&quot;</td><td>27.9</td><td>0</td><td>&quot;yes&quot;</td><td>&quot;southwest&quot;</td><td>16884.924</td></tr><tr><td>18</td><td>&quot;male&quot;</td><td>33.77</td><td>1</td><td>&quot;no&quot;</td><td>&quot;southeast&quot;</td><td>1725.5523</td></tr><tr><td>28</td><td>&quot;male&quot;</td><td>33.0</td><td>3</td><td>&quot;no&quot;</td><td>&quot;southeast&quot;</td><td>4449.462</td></tr><tr><td>33</td><td>&quot;male&quot;</td><td>22.705</td><td>0</td><td>&quot;no&quot;</td><td>&quot;northwest&quot;</td><td>21984.47061</td></tr><tr><td>32</td><td>&quot;male&quot;</td><td>28.88</td><td>0</td><td>&quot;no&quot;</td><td>&quot;northwest&quot;</td><td>3866.8552</td></tr><tr><td>31</td><td>&quot;female&quot;</td><td>25.74</td><td>0</td><td>&quot;no&quot;</td><td>&quot;southeast&quot;</td><td>3756.6216</td></tr><tr><td>46</td><td>&quot;female&quot;</td><td>33.44</td><td>1</td><td>&quot;no&quot;</td><td>&quot;southeast&quot;</td><td>8240.5896</td></tr><tr><td>37</td><td>&quot;female&quot;</td><td>27.74</td><td>3</td><td>&quot;no&quot;</td><td>&quot;northwest&quot;</td><td>7281.5056</td></tr><tr><td>37</td><td>&quot;male&quot;</td><td>29.83</td><td>2</td><td>&quot;no&quot;</td><td>&quot;northeast&quot;</td><td>6406.4107</td></tr><tr><td>60</td><td>&quot;female&quot;</td><td>25.84</td><td>0</td><td>&quot;no&quot;</td><td>&quot;northwest&quot;</td><td>28923.13692</td></tr><tr><td>25</td><td>&quot;male&quot;</td><td>26.22</td><td>0</td><td>&quot;no&quot;</td><td>&quot;northeast&quot;</td><td>2721.3208</td></tr><tr><td>62</td><td>&quot;female&quot;</td><td>26.29</td><td>0</td><td>&quot;yes&quot;</td><td>&quot;southeast&quot;</td><td>27808.7251</td></tr><tr><td>&hellip;</td><td>&hellip;</td><td>&hellip;</td><td>&hellip;</td><td>&hellip;</td><td>&hellip;</td><td>&hellip;</td></tr><tr><td>42</td><td>&quot;female&quot;</td><td>32.87</td><td>0</td><td>&quot;no&quot;</td><td>&quot;northeast&quot;</td><td>7050.0213</td></tr><tr><td>51</td><td>&quot;male&quot;</td><td>30.03</td><td>1</td><td>&quot;no&quot;</td><td>&quot;southeast&quot;</td><td>9377.9047</td></tr><tr><td>23</td><td>&quot;female&quot;</td><td>24.225</td><td>2</td><td>&quot;no&quot;</td><td>&quot;northeast&quot;</td><td>22395.74424</td></tr><tr><td>52</td><td>&quot;male&quot;</td><td>38.6</td><td>2</td><td>&quot;no&quot;</td><td>&quot;southwest&quot;</td><td>10325.206</td></tr><tr><td>57</td><td>&quot;female&quot;</td><td>25.74</td><td>2</td><td>&quot;no&quot;</td><td>&quot;southeast&quot;</td><td>12629.1656</td></tr><tr><td>23</td><td>&quot;female&quot;</td><td>33.4</td><td>0</td><td>&quot;no&quot;</td><td>&quot;southwest&quot;</td><td>10795.93733</td></tr><tr><td>52</td><td>&quot;female&quot;</td><td>44.7</td><td>3</td><td>&quot;no&quot;</td><td>&quot;southwest&quot;</td><td>11411.685</td></tr><tr><td>50</td><td>&quot;male&quot;</td><td>30.97</td><td>3</td><td>&quot;no&quot;</td><td>&quot;northwest&quot;</td><td>10600.5483</td></tr><tr><td>18</td><td>&quot;female&quot;</td><td>31.92</td><td>0</td><td>&quot;no&quot;</td><td>&quot;northeast&quot;</td><td>2205.9808</td></tr><tr><td>18</td><td>&quot;female&quot;</td><td>36.85</td><td>0</td><td>&quot;no&quot;</td><td>&quot;southeast&quot;</td><td>1629.8335</td></tr><tr><td>21</td><td>&quot;female&quot;</td><td>25.8</td><td>0</td><td>&quot;no&quot;</td><td>&quot;southwest&quot;</td><td>2007.945</td></tr><tr><td>61</td><td>&quot;female&quot;</td><td>29.07</td><td>0</td><td>&quot;yes&quot;</td><td>&quot;northwest&quot;</td><td>29141.3603</td></tr></tbody></table></div>"
      ],
      "text/plain": [
       "shape: (1_338, 7)\n",
       "┌─────┬────────┬────────┬──────────┬────────┬───────────┬─────────────┐\n",
       "│ age ┆ sex    ┆ bmi    ┆ children ┆ smoker ┆ region    ┆ charges     │\n",
       "│ --- ┆ ---    ┆ ---    ┆ ---      ┆ ---    ┆ ---       ┆ ---         │\n",
       "│ i64 ┆ str    ┆ f64    ┆ i64      ┆ str    ┆ str       ┆ f64         │\n",
       "╞═════╪════════╪════════╪══════════╪════════╪═══════════╪═════════════╡\n",
       "│ 19  ┆ female ┆ 27.9   ┆ 0        ┆ yes    ┆ southwest ┆ 16884.924   │\n",
       "│ 18  ┆ male   ┆ 33.77  ┆ 1        ┆ no     ┆ southeast ┆ 1725.5523   │\n",
       "│ 28  ┆ male   ┆ 33.0   ┆ 3        ┆ no     ┆ southeast ┆ 4449.462    │\n",
       "│ 33  ┆ male   ┆ 22.705 ┆ 0        ┆ no     ┆ northwest ┆ 21984.47061 │\n",
       "│ …   ┆ …      ┆ …      ┆ …        ┆ …      ┆ …         ┆ …           │\n",
       "│ 18  ┆ female ┆ 31.92  ┆ 0        ┆ no     ┆ northeast ┆ 2205.9808   │\n",
       "│ 18  ┆ female ┆ 36.85  ┆ 0        ┆ no     ┆ southeast ┆ 1629.8335   │\n",
       "│ 21  ┆ female ┆ 25.8   ┆ 0        ┆ no     ┆ southwest ┆ 2007.945    │\n",
       "│ 61  ┆ female ┆ 29.07  ┆ 0        ┆ yes    ┆ northwest ┆ 29141.3603  │\n",
       "└─────┴────────┴────────┴──────────┴────────┴───────────┴─────────────┘"
      ]
     },
     "execution_count": 37,
     "metadata": {},
     "output_type": "execute_result"
    }
   ],
   "source": [
    "insurance_df = pl.scan_csv(\"data/insurance.csv\")\n",
    "insurance_df.collect()"
   ]
  },
  {
   "cell_type": "code",
   "execution_count": 45,
   "id": "9709dcbf",
   "metadata": {},
   "outputs": [
    {
     "name": "stderr",
     "output_type": "stream",
     "text": [
      "/var/folders/77/skc_0fn91yld6jpgpm315xy40000gq/T/ipykernel_58063/682027274.py:2: DeprecationWarning: `groupby` is deprecated. It has been renamed to `group_by`.\n",
      "  pl.scan_csv(\"data/insurance.csv\").groupby(by=\"sex\").agg([pl.col(\"charges\").sum()])\n"
     ]
    },
    {
     "data": {
      "text/html": [
       "<div><style>\n",
       ".dataframe > thead > tr > th,\n",
       ".dataframe > tbody > tr > td {\n",
       "  text-align: right;\n",
       "  white-space: pre-wrap;\n",
       "}\n",
       "</style>\n",
       "<small>shape: (2, 2)</small><table border=\"1\" class=\"dataframe\"><thead><tr><th>sex</th><th>charges</th></tr><tr><td>str</td><td>f64</td></tr></thead><tbody><tr><td>&quot;female&quot;</td><td>8.3211e6</td></tr><tr><td>&quot;male&quot;</td><td>9.4348e6</td></tr></tbody></table></div>"
      ],
      "text/plain": [
       "shape: (2, 2)\n",
       "┌────────┬──────────┐\n",
       "│ sex    ┆ charges  │\n",
       "│ ---    ┆ ---      │\n",
       "│ str    ┆ f64      │\n",
       "╞════════╪══════════╡\n",
       "│ female ┆ 8.3211e6 │\n",
       "│ male   ┆ 9.4348e6 │\n",
       "└────────┴──────────┘"
      ]
     },
     "execution_count": 45,
     "metadata": {},
     "output_type": "execute_result"
    }
   ],
   "source": [
    "(\n",
    "    pl.scan_csv(\"data/insurance.csv\").groupby(by=\"sex\").agg([pl.col(\"charges\").sum()])\n",
    ").collect()"
   ]
  },
  {
   "cell_type": "code",
   "execution_count": 43,
   "id": "988cab1f",
   "metadata": {},
   "outputs": [
    {
     "name": "stderr",
     "output_type": "stream",
     "text": [
      "/var/folders/77/skc_0fn91yld6jpgpm315xy40000gq/T/ipykernel_58063/2882130752.py:3: DeprecationWarning: `groupby` is deprecated. It has been renamed to `group_by`.\n",
      "  .groupby(by='region')\n"
     ]
    },
    {
     "data": {
      "text/html": [
       "<div><style>\n",
       ".dataframe > thead > tr > th,\n",
       ".dataframe > tbody > tr > td {\n",
       "  text-align: right;\n",
       "  white-space: pre-wrap;\n",
       "}\n",
       "</style>\n",
       "<small>shape: (4, 3)</small><table border=\"1\" class=\"dataframe\"><thead><tr><th>region</th><th>male</th><th>female</th></tr><tr><td>str</td><td>u32</td><td>u32</td></tr></thead><tbody><tr><td>&quot;northeast&quot;</td><td>163</td><td>161</td></tr><tr><td>&quot;northwest&quot;</td><td>161</td><td>164</td></tr><tr><td>&quot;southeast&quot;</td><td>189</td><td>175</td></tr><tr><td>&quot;southwest&quot;</td><td>163</td><td>162</td></tr></tbody></table></div>"
      ],
      "text/plain": [
       "shape: (4, 3)\n",
       "┌───────────┬──────┬────────┐\n",
       "│ region    ┆ male ┆ female │\n",
       "│ ---       ┆ ---  ┆ ---    │\n",
       "│ str       ┆ u32  ┆ u32    │\n",
       "╞═══════════╪══════╪════════╡\n",
       "│ northeast ┆ 163  ┆ 161    │\n",
       "│ northwest ┆ 161  ┆ 164    │\n",
       "│ southeast ┆ 189  ┆ 175    │\n",
       "│ southwest ┆ 163  ┆ 162    │\n",
       "└───────────┴──────┴────────┘"
      ]
     },
     "execution_count": 43,
     "metadata": {},
     "output_type": "execute_result"
    }
   ],
   "source": [
    "q = (\n",
    "    pl.scan_csv(\"data/insurance.csv\")\n",
    "    .groupby(by='region')\n",
    "    .agg(\n",
    "        [\n",
    "            (pl.col('sex') == 'male').sum().alias('male'),\n",
    "            (pl.col('sex') == 'female').sum().alias('female'),\n",
    "        ]    \n",
    "    )\n",
    "    .sort(by='region')\n",
    ")\n",
    "q.collect()"
   ]
  },
  {
   "cell_type": "code",
   "execution_count": 46,
   "id": "6dd10c26",
   "metadata": {},
   "outputs": [
    {
     "name": "stderr",
     "output_type": "stream",
     "text": [
      "/var/folders/77/skc_0fn91yld6jpgpm315xy40000gq/T/ipykernel_58063/2968993180.py:3: DeprecationWarning: `groupby` is deprecated. It has been renamed to `group_by`.\n",
      "  .groupby(by=\"region\")\n"
     ]
    },
    {
     "data": {
      "text/html": [
       "<div><style>\n",
       ".dataframe > thead > tr > th,\n",
       ".dataframe > tbody > tr > td {\n",
       "  text-align: right;\n",
       "  white-space: pre-wrap;\n",
       "}\n",
       "</style>\n",
       "<small>shape: (4, 3)</small><table border=\"1\" class=\"dataframe\"><thead><tr><th>region</th><th>male_mean_charges</th><th>female_mean_charges</th></tr><tr><td>str</td><td>f64</td><td>f64</td></tr></thead><tbody><tr><td>&quot;northeast&quot;</td><td>13854.005374</td><td>12953.203151</td></tr><tr><td>&quot;northwest&quot;</td><td>12354.119575</td><td>12479.870397</td></tr><tr><td>&quot;southeast&quot;</td><td>15879.617173</td><td>13499.669243</td></tr><tr><td>&quot;southwest&quot;</td><td>13412.883576</td><td>11274.411264</td></tr></tbody></table></div>"
      ],
      "text/plain": [
       "shape: (4, 3)\n",
       "┌───────────┬───────────────────┬─────────────────────┐\n",
       "│ region    ┆ male_mean_charges ┆ female_mean_charges │\n",
       "│ ---       ┆ ---               ┆ ---                 │\n",
       "│ str       ┆ f64               ┆ f64                 │\n",
       "╞═══════════╪═══════════════════╪═════════════════════╡\n",
       "│ northeast ┆ 13854.005374      ┆ 12953.203151        │\n",
       "│ northwest ┆ 12354.119575      ┆ 12479.870397        │\n",
       "│ southeast ┆ 15879.617173      ┆ 13499.669243        │\n",
       "│ southwest ┆ 13412.883576      ┆ 11274.411264        │\n",
       "└───────────┴───────────────────┴─────────────────────┘"
      ]
     },
     "execution_count": 46,
     "metadata": {},
     "output_type": "execute_result"
    }
   ],
   "source": [
    "q = (\n",
    "    pl.scan_csv(\"data/insurance.csv\")\n",
    "    .groupby(by=\"region\")\n",
    "    .agg(\n",
    "        [\n",
    "            (pl.col(\"charges\").filter(pl.col(\"sex\") == \"male\"))\n",
    "            .mean()\n",
    "            .alias(\"male_mean_charges\"),\n",
    "            (pl.col(\"charges\").filter(pl.col(\"sex\") == \"female\"))\n",
    "            .mean()\n",
    "            .alias(\"female_mean_charges\"),\n",
    "        ]\n",
    "    )\n",
    "    .sort(by=\"region\")\n",
    ")\n",
    "q.collect()"
   ]
  },
  {
   "cell_type": "code",
   "execution_count": 66,
   "id": "5271ddb7",
   "metadata": {},
   "outputs": [
    {
     "name": "stderr",
     "output_type": "stream",
     "text": [
      "/var/folders/77/skc_0fn91yld6jpgpm315xy40000gq/T/ipykernel_58063/905978865.py:3: DeprecationWarning: `groupby` is deprecated. It has been renamed to `group_by`.\n",
      "  .groupby(by=\"region\")\n"
     ]
    },
    {
     "data": {
      "text/html": [
       "<div><style>\n",
       ".dataframe > thead > tr > th,\n",
       ".dataframe > tbody > tr > td {\n",
       "  text-align: right;\n",
       "  white-space: pre-wrap;\n",
       "}\n",
       "</style>\n",
       "<small>shape: (4, 4)</small><table border=\"1\" class=\"dataframe\"><thead><tr><th>region</th><th>smoker_Q_count</th><th>yes_smoker_count</th><th>no_smoker_count</th></tr><tr><td>str</td><td>u32</td><td>u32</td><td>u32</td></tr></thead><tbody><tr><td>&quot;southwest&quot;</td><td>325</td><td>58</td><td>267</td></tr><tr><td>&quot;northeast&quot;</td><td>324</td><td>67</td><td>257</td></tr><tr><td>&quot;northwest&quot;</td><td>325</td><td>58</td><td>267</td></tr><tr><td>&quot;southeast&quot;</td><td>364</td><td>91</td><td>273</td></tr></tbody></table></div>"
      ],
      "text/plain": [
       "shape: (4, 4)\n",
       "┌───────────┬────────────────┬──────────────────┬─────────────────┐\n",
       "│ region    ┆ smoker_Q_count ┆ yes_smoker_count ┆ no_smoker_count │\n",
       "│ ---       ┆ ---            ┆ ---              ┆ ---             │\n",
       "│ str       ┆ u32            ┆ u32              ┆ u32             │\n",
       "╞═══════════╪════════════════╪══════════════════╪═════════════════╡\n",
       "│ southwest ┆ 325            ┆ 58               ┆ 267             │\n",
       "│ northeast ┆ 324            ┆ 67               ┆ 257             │\n",
       "│ northwest ┆ 325            ┆ 58               ┆ 267             │\n",
       "│ southeast ┆ 364            ┆ 91               ┆ 273             │\n",
       "└───────────┴────────────────┴──────────────────┴─────────────────┘"
      ]
     },
     "execution_count": 66,
     "metadata": {},
     "output_type": "execute_result"
    }
   ],
   "source": [
    "q = (\n",
    "    pl.scan_csv(\"data/insurance.csv\")\n",
    "    .groupby(by=\"region\")\n",
    "    .agg(\n",
    "        [\n",
    "            pl.col(\"smoker\").count().alias(\"smoker_Q_count\"),\n",
    "            (pl.col(\"smoker\") == \"yes\").sum().alias(\"yes_smoker_count\"),\n",
    "            (pl.col(\"smoker\") == \"no\").sum().alias(\"no_smoker_count\"),\n",
    "        ]\n",
    "    )\n",
    ")\n",
    "\n",
    "q.collect()"
   ]
  },
  {
   "cell_type": "markdown",
   "id": "5f740d9a",
   "metadata": {},
   "source": [
    "### NOTE: `.count()` counts all entries, `.sum()` counts all values that are true (assuming a boolean on column)"
   ]
  },
  {
   "cell_type": "code",
   "execution_count": 60,
   "id": "c90414f8",
   "metadata": {},
   "outputs": [
    {
     "name": "stderr",
     "output_type": "stream",
     "text": [
      "/var/folders/77/skc_0fn91yld6jpgpm315xy40000gq/T/ipykernel_58063/1856031717.py:3: DeprecationWarning: `groupby` is deprecated. It has been renamed to `group_by`.\n",
      "  .groupby(by='region')\n"
     ]
    },
    {
     "data": {
      "text/html": [
       "<div><style>\n",
       ".dataframe > thead > tr > th,\n",
       ".dataframe > tbody > tr > td {\n",
       "  text-align: right;\n",
       "  white-space: pre-wrap;\n",
       "}\n",
       "</style>\n",
       "<small>shape: (4, 2)</small><table border=\"1\" class=\"dataframe\"><thead><tr><th>region</th><th>smoker</th></tr><tr><td>str</td><td>u32</td></tr></thead><tbody><tr><td>&quot;northeast&quot;</td><td>67</td></tr><tr><td>&quot;northwest&quot;</td><td>58</td></tr><tr><td>&quot;southeast&quot;</td><td>91</td></tr><tr><td>&quot;southwest&quot;</td><td>58</td></tr></tbody></table></div>"
      ],
      "text/plain": [
       "shape: (4, 2)\n",
       "┌───────────┬────────┐\n",
       "│ region    ┆ smoker │\n",
       "│ ---       ┆ ---    │\n",
       "│ str       ┆ u32    │\n",
       "╞═══════════╪════════╡\n",
       "│ northeast ┆ 67     │\n",
       "│ northwest ┆ 58     │\n",
       "│ southeast ┆ 91     │\n",
       "│ southwest ┆ 58     │\n",
       "└───────────┴────────┘"
      ]
     },
     "execution_count": 60,
     "metadata": {},
     "output_type": "execute_result"
    }
   ],
   "source": [
    "q = (\n",
    "    pl.scan_csv('data/insurance.csv')\n",
    "    .groupby(by='region')\n",
    "    .agg(\n",
    "        [\n",
    "            (pl.col('smoker')=='yes').sum()\n",
    "        ]    \n",
    "    )\n",
    "    .sort(by='region')\n",
    ")\n",
    "q.collect()"
   ]
  },
  {
   "cell_type": "code",
   "execution_count": null,
   "id": "21320a3f",
   "metadata": {},
   "outputs": [],
   "source": []
  }
 ],
 "metadata": {
  "jupytext": {
   "cell_metadata_filter": "-all",
   "formats": "auto:percent,ipynb",
   "main_language": "python",
   "notebook_metadata_filter": "-all"
  },
  "kernelspec": {
   "display_name": ".venv",
   "language": "python",
   "name": "python3"
  },
  "language_info": {
   "codemirror_mode": {
    "name": "ipython",
    "version": 3
   },
   "file_extension": ".py",
   "mimetype": "text/x-python",
   "name": "python",
   "nbconvert_exporter": "python",
   "pygments_lexer": "ipython3",
   "version": "3.11.5"
  }
 },
 "nbformat": 4,
 "nbformat_minor": 5
}
